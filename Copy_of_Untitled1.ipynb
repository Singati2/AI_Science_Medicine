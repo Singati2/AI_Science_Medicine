{
  "nbformat": 4,
  "nbformat_minor": 0,
  "metadata": {
    "colab": {
      "provenance": [],
      "authorship_tag": "ABX9TyOTh40GmICcB6VSgPh49KZ9",
      "include_colab_link": true
    },
    "kernelspec": {
      "name": "python3",
      "display_name": "Python 3"
    },
    "language_info": {
      "name": "python"
    }
  },
  "cells": [
    {
      "cell_type": "markdown",
      "metadata": {
        "id": "view-in-github",
        "colab_type": "text"
      },
      "source": [
        "<a href=\"https://colab.research.google.com/github/Singati2/AI_Science_Medicine/blob/main/Copy_of_Untitled1.ipynb\" target=\"_parent\"><img src=\"https://colab.research.google.com/assets/colab-badge.svg\" alt=\"Open In Colab\"/></a>"
      ]
    },
    {
      "cell_type": "code",
      "execution_count": null,
      "metadata": {
        "id": "BiDWReyC3qiB"
      },
      "outputs": [],
      "source": [
        "import matplotlib.pyplot as plt\n",
        "from skimage.io import imread"
      ]
    },
    {
      "cell_type": "code",
      "source": [
        "url='data:image/jpeg;base64,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'"
      ],
      "metadata": {
        "id": "9Kcviu5646Ij"
      },
      "execution_count": null,
      "outputs": []
    },
    {
      "cell_type": "code",
      "source": [
        "img"
      ],
      "metadata": {
        "id": "p6FxQSp346aW"
      },
      "execution_count": null,
      "outputs": []
    },
    {
      "cell_type": "code",
      "source": [
        "plt.figure"
      ],
      "metadata": {
        "id": "fJ2EPCA046rt"
      },
      "execution_count": null,
      "outputs": []
    },
    {
      "cell_type": "code",
      "source": [],
      "metadata": {
        "id": "GiqnzwHm460C"
      },
      "execution_count": null,
      "outputs": []
    },
    {
      "cell_type": "code",
      "source": [],
      "metadata": {
        "id": "a4-7ibBf47TA"
      },
      "execution_count": null,
      "outputs": []
    },
    {
      "cell_type": "code",
      "source": [],
      "metadata": {
        "id": "UEiAJ7Gp89hD"
      },
      "execution_count": null,
      "outputs": []
    },
    {
      "cell_type": "code",
      "source": [],
      "metadata": {
        "id": "9PaF2x6p89rI"
      },
      "execution_count": null,
      "outputs": []
    },
    {
      "cell_type": "code",
      "source": [],
      "metadata": {
        "id": "d4VJdss589uW"
      },
      "execution_count": null,
      "outputs": []
    },
    {
      "cell_type": "code",
      "source": [],
      "metadata": {
        "id": "1EOn5RoJ89xQ"
      },
      "execution_count": null,
      "outputs": []
    },
    {
      "cell_type": "code",
      "source": [],
      "metadata": {
        "id": "wNLsCGyZ890A"
      },
      "execution_count": null,
      "outputs": []
    },
    {
      "cell_type": "code",
      "source": [],
      "metadata": {
        "id": "tbeBECf2892i"
      },
      "execution_count": null,
      "outputs": []
    },
    {
      "cell_type": "code",
      "source": [
        "import numpy as np"
      ],
      "metadata": {
        "id": "m7UvZevK895k"
      },
      "execution_count": null,
      "outputs": []
    },
    {
      "cell_type": "code",
      "source": [
        " w = np.zeros((100,100,3))\n",
        " w[0:10,:,0] =1\n",
        "w[40:50,:,1] =1\n"
      ],
      "metadata": {
        "id": "DlsNGqHb8983"
      },
      "execution_count": null,
      "outputs": []
    },
    {
      "cell_type": "code",
      "source": [
        "plt.imshow(w)"
      ],
      "metadata": {
        "colab": {
          "base_uri": "https://localhost:8080/",
          "height": 450
        },
        "id": "REeLtd3Y9ryg",
        "outputId": "d4bac6de-02a2-474b-ef88-bd5af03ff255"
      },
      "execution_count": null,
      "outputs": [
        {
          "output_type": "execute_result",
          "data": {
            "text/plain": [
              "<matplotlib.image.AxesImage at 0x7f462f9ce620>"
            ]
          },
          "metadata": {},
          "execution_count": 17
        },
        {
          "output_type": "display_data",
          "data": {
            "text/plain": [
              "<Figure size 640x480 with 1 Axes>"
            ],
            "image/png": "[encoded data removed]"
          },
          "metadata": {}
        }
      ]
    },
    {
      "cell_type": "code",
      "source": [],
      "metadata": {
        "id": "jISBpF8E9sEg"
      },
      "execution_count": null,
      "outputs": []
    },
    {
      "cell_type": "code",
      "source": [],
      "metadata": {
        "id": "jn0JH0rR9sJX"
      },
      "execution_count": null,
      "outputs": []
    }
  ]
}