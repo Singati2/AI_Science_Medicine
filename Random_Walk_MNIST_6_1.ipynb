{
  "nbformat": 4,
  "nbformat_minor": 0,
  "metadata": {
    "colab": {
      "provenance": [],
      "gpuType": "T4",
      "include_colab_link": true
    },
    "kernelspec": {
      "name": "python3",
      "display_name": "Python 3"
    },
    "language_info": {
      "name": "python"
    },
    "accelerator": "GPU"
  },
  "cells": [
    {
      "cell_type": "markdown",
      "metadata": {
        "id": "view-in-github",
        "colab_type": "text"
      },
      "source": [
        "<a href=\"https://colab.research.google.com/github/Singati2/AI_Science_Medicine/blob/main/Random_Walk_MNIST_6_1.ipynb\" target=\"_parent\"><img src=\"https://colab.research.google.com/assets/colab-badge.svg\" alt=\"Open In Colab\"/></a>"
      ]
    },
    {
      "cell_type": "code",
      "metadata": {
        "id": "G2-MnAgsMv7g"
      },
      "source": [
        "import numpy as np\n",
        "import matplotlib.pyplot as plt\n",
        "from torchvision import datasets\n",
        "import torch\n",
        "from skimage.util import montage"
      ],
      "execution_count": 53,
      "outputs": []
    },
    {
      "cell_type": "code",
      "metadata": {
        "id": "vtt2uLdjovJE"
      },
      "source": [
        "def GPU(data):\n",
        "    return torch.tensor(data, requires_grad=True, dtype=torch.float, device=torch.device('cuda'))\n",
        "\n",
        "def GPU_data(data):\n",
        "    return torch.tensor(data, requires_grad=False, dtype=torch.float, device=torch.device('cuda'))"
      ],
      "execution_count": 54,
      "outputs": []
    },
    {
      "cell_type": "code",
      "metadata": {
        "id": "6DQxxGNl1E1o"
      },
      "source": [
        "def plot(x):\n",
        "    if type(x) == torch.Tensor :\n",
        "        x = x.cpu().detach().numpy()\n",
        "\n",
        "    fig, ax = plt.subplots()\n",
        "    im = ax.imshow(x, cmap = 'gray')\n",
        "    ax.axis('off')\n",
        "    fig.set_size_inches(10, 10)\n",
        "    plt.show()"
      ],
      "execution_count": 55,
      "outputs": []
    },
    {
      "cell_type": "code",
      "metadata": {
        "id": "wLcWTt76COK2"
      },
      "source": [
        "def montage_plot(x):\n",
        "    x = np.pad(x, pad_width=((0, 0), (1, 1), (1, 1)), mode='constant', constant_values=0)\n",
        "    plot(montage(x))"
      ],
      "execution_count": 56,
      "outputs": []
    },
    {
      "cell_type": "code",
      "metadata": {
        "id": "mm7ZMYrVEdMX"
      },
      "source": [
        "#MNIST\n",
        "train_set = datasets.MNIST('./data', train=True, download=True)\n",
        "test_set = datasets.MNIST('./data', train=False, download=True)"
      ],
      "execution_count": 57,
      "outputs": []
    },
    {
      "cell_type": "code",
      "metadata": {
        "id": "Ols0HivADS6a"
      },
      "source": [
        "X = train_set.data.numpy()\n",
        "X_test = test_set.data.numpy()\n",
        "Y = train_set.targets.numpy()\n",
        "Y_test = test_set.targets.numpy()\n",
        "\n",
        "X = X[:,None,:,:]/255\n",
        "X_test = X_test[:,None,:,:]/255"
      ],
      "execution_count": 58,
      "outputs": []
    },
    {
      "cell_type": "code",
      "metadata": {
        "id": "oTo8Ij_dtvnm",
        "outputId": "ff782390-6055-4e2e-faff-9d6610b62536",
        "colab": {
          "base_uri": "https://localhost:8080/"
        }
      },
      "source": [
        "X.shape,Y.shape,X_test.shape,Y_test.shape"
      ],
      "execution_count": 59,
      "outputs": [
        {
          "output_type": "execute_result",
          "data": {
            "text/plain": [
              "((60000, 1, 28, 28), (60000,), (10000, 1, 28, 28), (10000,))"
            ]
          },
          "metadata": {},
          "execution_count": 59
        }
      ]
    },
    {
      "cell_type": "code",
      "source": [
        "x = X[10,0,:,:]"
      ],
      "metadata": {
        "id": "fNB7IqMOrmT9"
      },
      "execution_count": 60,
      "outputs": []
    },
    {
      "cell_type": "code",
      "source": [
        "x.shape"
      ],
      "metadata": {
        "colab": {
          "base_uri": "https://localhost:8080/"
        },
        "id": "CDi1Jh4Irts7",
        "outputId": "f57723c2-05b2-4668-a8ec-63d3b765e7af"
      },
      "execution_count": 61,
      "outputs": [
        {
          "output_type": "execute_result",
          "data": {
            "text/plain": [
              "(28, 28)"
            ]
          },
          "metadata": {},
          "execution_count": 61
        }
      ]
    },
    {
      "cell_type": "code",
      "source": [
        "plt.imshow(x)"
      ],
      "metadata": {
        "id": "6Vx1F-xeqECM",
        "colab": {
          "base_uri": "https://localhost:8080/",
          "height": 447
        },
        "outputId": "c2c80ad9-dfc8-4383-db3a-8ba2b313edf3"
      },
      "execution_count": 62,
      "outputs": [
        {
          "output_type": "execute_result",
          "data": {
            "text/plain": [
              "<matplotlib.image.AxesImage at 0x7fbd13dde110>"
            ]
          },
          "metadata": {},
          "execution_count": 62
        },
        {
          "output_type": "display_data",
          "data": {
            "text/plain": [
              "<Figure size 640x480 with 1 Axes>"
            ],
            "image/png": "[encoded data removed]"
          },
          "metadata": {}
        }
      ]
    },
    {
      "cell_type": "code",
      "source": [],
      "metadata": {
        "id": "1XNBRsnYriLA"
      },
      "execution_count": 62,
      "outputs": []
    },
    {
      "cell_type": "code",
      "source": [
        "a = np.random.random((5,1))"
      ],
      "metadata": {
        "id": "wCmkII58sZdA"
      },
      "execution_count": 63,
      "outputs": []
    },
    {
      "cell_type": "code",
      "source": [
        "a"
      ],
      "metadata": {
        "colab": {
          "base_uri": "https://localhost:8080/"
        },
        "id": "-UT4Y8BjsZfT",
        "outputId": "826c45a2-3ec8-4baa-d24a-4bc945819ab5"
      },
      "execution_count": 64,
      "outputs": [
        {
          "output_type": "execute_result",
          "data": {
            "text/plain": [
              "array([[0.95783669],\n",
              "       [0.85932131],\n",
              "       [0.52303328],\n",
              "       [0.20753347],\n",
              "       [0.23827152]])"
            ]
          },
          "metadata": {},
          "execution_count": 64
        }
      ]
    },
    {
      "cell_type": "code",
      "source": [
        "a.T"
      ],
      "metadata": {
        "colab": {
          "base_uri": "https://localhost:8080/"
        },
        "id": "O7_wns-asism",
        "outputId": "d7d28c15-3508-4189-a67a-c711837c42dc"
      },
      "execution_count": 65,
      "outputs": [
        {
          "output_type": "execute_result",
          "data": {
            "text/plain": [
              "array([[0.95783669, 0.85932131, 0.52303328, 0.20753347, 0.23827152]])"
            ]
          },
          "metadata": {},
          "execution_count": 65
        }
      ]
    },
    {
      "cell_type": "code",
      "source": [
        "b = np.random.random((5,5))"
      ],
      "metadata": {
        "id": "szMOX9nMsdrk"
      },
      "execution_count": 66,
      "outputs": []
    },
    {
      "cell_type": "code",
      "source": [
        "b.shape,a.shape"
      ],
      "metadata": {
        "colab": {
          "base_uri": "https://localhost:8080/"
        },
        "id": "3NKB1sggsnJa",
        "outputId": "7fc06be6-8f4c-4193-8124-f171be79397f"
      },
      "execution_count": 67,
      "outputs": [
        {
          "output_type": "execute_result",
          "data": {
            "text/plain": [
              "((5, 5), (5, 1))"
            ]
          },
          "metadata": {},
          "execution_count": 67
        }
      ]
    },
    {
      "cell_type": "code",
      "source": [
        "b@a"
      ],
      "metadata": {
        "colab": {
          "base_uri": "https://localhost:8080/"
        },
        "id": "WjFosx33sqgC",
        "outputId": "c0cb5e30-caa2-4d85-d622-126d9d1a4ba8"
      },
      "execution_count": 68,
      "outputs": [
        {
          "output_type": "execute_result",
          "data": {
            "text/plain": [
              "array([[1.86687013],\n",
              "       [0.34638592],\n",
              "       [1.41521577],\n",
              "       [1.14674399],\n",
              "       [1.5847105 ]])"
            ]
          },
          "metadata": {},
          "execution_count": 68
        }
      ]
    },
    {
      "cell_type": "code",
      "source": [
        "b = np.random.random((2,5))"
      ],
      "metadata": {
        "id": "j6GQ9NCjszw1"
      },
      "execution_count": 69,
      "outputs": []
    },
    {
      "cell_type": "code",
      "source": [
        "b@a"
      ],
      "metadata": {
        "colab": {
          "base_uri": "https://localhost:8080/"
        },
        "id": "NnlXayIAs8x6",
        "outputId": "d50c4892-e8d7-40fe-db9e-fb9c5511d009"
      },
      "execution_count": 70,
      "outputs": [
        {
          "output_type": "execute_result",
          "data": {
            "text/plain": [
              "array([[1.62504625],\n",
              "       [1.2254917 ]])"
            ]
          },
          "metadata": {},
          "execution_count": 70
        }
      ]
    },
    {
      "cell_type": "code",
      "source": [
        "b.shape,a.shape"
      ],
      "metadata": {
        "colab": {
          "base_uri": "https://localhost:8080/"
        },
        "id": "jGHfXpiAs9tb",
        "outputId": "de8d6e15-a773-47cb-9a9a-b0e7f460ea20"
      },
      "execution_count": 71,
      "outputs": [
        {
          "output_type": "execute_result",
          "data": {
            "text/plain": [
              "((2, 5), (5, 1))"
            ]
          },
          "metadata": {},
          "execution_count": 71
        }
      ]
    },
    {
      "cell_type": "code",
      "source": [
        "x = np.random.random((784,1))"
      ],
      "metadata": {
        "id": "i5tBm3-itAs1"
      },
      "execution_count": 72,
      "outputs": []
    },
    {
      "cell_type": "code",
      "source": [
        "x.shape"
      ],
      "metadata": {
        "colab": {
          "base_uri": "https://localhost:8080/"
        },
        "id": "T_L5bVkRtGqA",
        "outputId": "05c8d5ff-1e95-4864-babf-b9e1f275c300"
      },
      "execution_count": 73,
      "outputs": [
        {
          "output_type": "execute_result",
          "data": {
            "text/plain": [
              "(784, 1)"
            ]
          },
          "metadata": {},
          "execution_count": 73
        }
      ]
    },
    {
      "cell_type": "code",
      "source": [
        "m = np.random.random((10,784))"
      ],
      "metadata": {
        "id": "2dNYXDXPtHT7"
      },
      "execution_count": 74,
      "outputs": []
    },
    {
      "cell_type": "code",
      "source": [
        "m@x"
      ],
      "metadata": {
        "colab": {
          "base_uri": "https://localhost:8080/"
        },
        "id": "pMSA1rJltQ3T",
        "outputId": "d62c3c7b-3ca0-401e-c308-082895785bc7"
      },
      "execution_count": 75,
      "outputs": [
        {
          "output_type": "execute_result",
          "data": {
            "text/plain": [
              "array([[189.14409241],\n",
              "       [189.17616057],\n",
              "       [188.4668467 ],\n",
              "       [188.42830506],\n",
              "       [189.50835148],\n",
              "       [190.22197971],\n",
              "       [184.43356693],\n",
              "       [191.67508654],\n",
              "       [197.37076404],\n",
              "       [192.96932239]])"
            ]
          },
          "metadata": {},
          "execution_count": 75
        }
      ]
    },
    {
      "cell_type": "code",
      "source": [
        "y = m@x"
      ],
      "metadata": {
        "id": "if_3ePE2tS1N"
      },
      "execution_count": 76,
      "outputs": []
    },
    {
      "cell_type": "code",
      "source": [
        "y.shape"
      ],
      "metadata": {
        "colab": {
          "base_uri": "https://localhost:8080/"
        },
        "id": "SP8p_g2StVR9",
        "outputId": "b836fdba-8ceb-4b39-8bac-a75f5c034efd"
      },
      "execution_count": 77,
      "outputs": [
        {
          "output_type": "execute_result",
          "data": {
            "text/plain": [
              "(10, 1)"
            ]
          },
          "metadata": {},
          "execution_count": 77
        }
      ]
    },
    {
      "cell_type": "code",
      "source": [
        "m.shape,x.shape"
      ],
      "metadata": {
        "colab": {
          "base_uri": "https://localhost:8080/"
        },
        "id": "nki-C8dLtV5m",
        "outputId": "babe7b9d-4417-4adb-fc5d-6b479c33effd"
      },
      "execution_count": 78,
      "outputs": [
        {
          "output_type": "execute_result",
          "data": {
            "text/plain": [
              "((10, 784), (784, 1))"
            ]
          },
          "metadata": {},
          "execution_count": 78
        }
      ]
    },
    {
      "cell_type": "code",
      "source": [
        "np.max(y)"
      ],
      "metadata": {
        "colab": {
          "base_uri": "https://localhost:8080/"
        },
        "id": "fuqTV174tgV3",
        "outputId": "efb48adc-cd9a-4e81-a64a-326382397fd0"
      },
      "execution_count": 79,
      "outputs": [
        {
          "output_type": "execute_result",
          "data": {
            "text/plain": [
              "197.37076404340473"
            ]
          },
          "metadata": {},
          "execution_count": 79
        }
      ]
    },
    {
      "cell_type": "code",
      "source": [
        "np.argmax(y)"
      ],
      "metadata": {
        "colab": {
          "base_uri": "https://localhost:8080/"
        },
        "id": "VRMMUuGcttG3",
        "outputId": "bc7c2681-1de3-4e46-80bf-8e699a80b684"
      },
      "execution_count": 80,
      "outputs": [
        {
          "output_type": "execute_result",
          "data": {
            "text/plain": [
              "8"
            ]
          },
          "metadata": {},
          "execution_count": 80
        }
      ]
    },
    {
      "cell_type": "code",
      "source": [
        "X.shape"
      ],
      "metadata": {
        "colab": {
          "base_uri": "https://localhost:8080/"
        },
        "id": "eEej490suLSR",
        "outputId": "a52be5d5-e901-4885-bcbb-1c0c9440af48"
      },
      "execution_count": 81,
      "outputs": [
        {
          "output_type": "execute_result",
          "data": {
            "text/plain": [
              "(60000, 1, 28, 28)"
            ]
          },
          "metadata": {},
          "execution_count": 81
        }
      ]
    },
    {
      "cell_type": "code",
      "source": [
        "X.shape[0]"
      ],
      "metadata": {
        "colab": {
          "base_uri": "https://localhost:8080/"
        },
        "id": "qn91STESuV2G",
        "outputId": "3c367305-ab72-4427-ca5d-7b71776ff1cd"
      },
      "execution_count": 82,
      "outputs": [
        {
          "output_type": "execute_result",
          "data": {
            "text/plain": [
              "60000"
            ]
          },
          "metadata": {},
          "execution_count": 82
        }
      ]
    },
    {
      "cell_type": "code",
      "source": [
        "X.shape[1]"
      ],
      "metadata": {
        "colab": {
          "base_uri": "https://localhost:8080/"
        },
        "id": "SkJuAhHcuXxQ",
        "outputId": "6186ab31-00c8-4ced-979b-c4f2adfe2a15"
      },
      "execution_count": 83,
      "outputs": [
        {
          "output_type": "execute_result",
          "data": {
            "text/plain": [
              "1"
            ]
          },
          "metadata": {},
          "execution_count": 83
        }
      ]
    },
    {
      "cell_type": "code",
      "source": [
        "X.shape[2]"
      ],
      "metadata": {
        "colab": {
          "base_uri": "https://localhost:8080/"
        },
        "id": "3DeZXds1uZMd",
        "outputId": "bcd93482-52df-48bc-d9dd-7cec6ed37c51"
      },
      "execution_count": 84,
      "outputs": [
        {
          "output_type": "execute_result",
          "data": {
            "text/plain": [
              "28"
            ]
          },
          "metadata": {},
          "execution_count": 84
        }
      ]
    },
    {
      "cell_type": "code",
      "source": [
        "X = X.reshape(X.shape[0],X.shape[2]*X.shape[3])"
      ],
      "metadata": {
        "id": "7DeXU2BDuOiX"
      },
      "execution_count": 85,
      "outputs": []
    },
    {
      "cell_type": "code",
      "source": [
        "X.shape"
      ],
      "metadata": {
        "colab": {
          "base_uri": "https://localhost:8080/"
        },
        "id": "RjINnBEJugnp",
        "outputId": "d6490431-b7a1-45ee-84ea-7e251b35e347"
      },
      "execution_count": 86,
      "outputs": [
        {
          "output_type": "execute_result",
          "data": {
            "text/plain": [
              "(60000, 784)"
            ]
          },
          "metadata": {},
          "execution_count": 86
        }
      ]
    },
    {
      "cell_type": "code",
      "source": [
        "X = X.T"
      ],
      "metadata": {
        "id": "FzpWFgSuumVj"
      },
      "execution_count": 87,
      "outputs": []
    },
    {
      "cell_type": "code",
      "source": [
        "m = np.random.standard_normal((10,784))"
      ],
      "metadata": {
        "id": "w_q5GstOu6Br"
      },
      "execution_count": 88,
      "outputs": []
    },
    {
      "cell_type": "code",
      "source": [
        "m.shape,X.shape"
      ],
      "metadata": {
        "colab": {
          "base_uri": "https://localhost:8080/"
        },
        "id": "9B2zb0RLun0Y",
        "outputId": "a395878a-0c72-4bad-88b6-978666f11e91"
      },
      "execution_count": 89,
      "outputs": [
        {
          "output_type": "execute_result",
          "data": {
            "text/plain": [
              "((10, 784), (784, 60000))"
            ]
          },
          "metadata": {},
          "execution_count": 89
        }
      ]
    },
    {
      "cell_type": "code",
      "source": [
        "y = m@X"
      ],
      "metadata": {
        "id": "s57Ra0GQvAa3"
      },
      "execution_count": 90,
      "outputs": []
    },
    {
      "cell_type": "code",
      "source": [
        "y.shape"
      ],
      "metadata": {
        "colab": {
          "base_uri": "https://localhost:8080/"
        },
        "id": "ltSHW0RnvBxa",
        "outputId": "146fab05-09f0-40af-9ee9-e9b8f6e3b9b8"
      },
      "execution_count": 91,
      "outputs": [
        {
          "output_type": "execute_result",
          "data": {
            "text/plain": [
              "(10, 60000)"
            ]
          },
          "metadata": {},
          "execution_count": 91
        }
      ]
    },
    {
      "cell_type": "code",
      "source": [
        "y = np.argmax(y, axis=0)"
      ],
      "metadata": {
        "id": "H3u3NxCLvNEb"
      },
      "execution_count": 92,
      "outputs": []
    },
    {
      "cell_type": "code",
      "source": [
        "y.shape"
      ],
      "metadata": {
        "colab": {
          "base_uri": "https://localhost:8080/"
        },
        "id": "B9KzW_npvO0t",
        "outputId": "35373f8c-14fd-43d6-f72f-46b36d2d228d"
      },
      "execution_count": 93,
      "outputs": [
        {
          "output_type": "execute_result",
          "data": {
            "text/plain": [
              "(60000,)"
            ]
          },
          "metadata": {},
          "execution_count": 93
        }
      ]
    },
    {
      "cell_type": "code",
      "source": [
        "Y.shape"
      ],
      "metadata": {
        "colab": {
          "base_uri": "https://localhost:8080/"
        },
        "id": "EQqlYV3LvSG1",
        "outputId": "4c181b74-d88f-422b-b3d6-88a0ab62ea4e"
      },
      "execution_count": 94,
      "outputs": [
        {
          "output_type": "execute_result",
          "data": {
            "text/plain": [
              "(60000,)"
            ]
          },
          "metadata": {},
          "execution_count": 94
        }
      ]
    },
    {
      "cell_type": "code",
      "source": [
        "y"
      ],
      "metadata": {
        "colab": {
          "base_uri": "https://localhost:8080/"
        },
        "id": "FH2Z1vYCvUCR",
        "outputId": "b5e4939f-36e5-41ba-986d-227a46e2ca60"
      },
      "execution_count": 95,
      "outputs": [
        {
          "output_type": "execute_result",
          "data": {
            "text/plain": [
              "array([6, 4, 8, ..., 6, 9, 4])"
            ]
          },
          "metadata": {},
          "execution_count": 95
        }
      ]
    },
    {
      "cell_type": "code",
      "source": [
        "Y"
      ],
      "metadata": {
        "colab": {
          "base_uri": "https://localhost:8080/"
        },
        "id": "Q41hImp6vVQd",
        "outputId": "003c7296-06e6-4584-90f0-547b9a22b4da"
      },
      "execution_count": 96,
      "outputs": [
        {
          "output_type": "execute_result",
          "data": {
            "text/plain": [
              "array([5, 0, 4, ..., 5, 6, 8])"
            ]
          },
          "metadata": {},
          "execution_count": 96
        }
      ]
    },
    {
      "cell_type": "code",
      "source": [
        "y == Y"
      ],
      "metadata": {
        "colab": {
          "base_uri": "https://localhost:8080/"
        },
        "id": "PK7wc2ervbWB",
        "outputId": "07ad8862-3982-4171-f109-10e99d06243b"
      },
      "execution_count": 97,
      "outputs": [
        {
          "output_type": "execute_result",
          "data": {
            "text/plain": [
              "array([False, False, False, ..., False, False, False])"
            ]
          },
          "metadata": {},
          "execution_count": 97
        }
      ]
    },
    {
      "cell_type": "code",
      "source": [
        "np.sum(y == Y)"
      ],
      "metadata": {
        "colab": {
          "base_uri": "https://localhost:8080/"
        },
        "id": "TIN0hNJkvgJm",
        "outputId": "024beb61-a3ab-44cb-b9ae-6fbd22fa83a6"
      },
      "execution_count": 98,
      "outputs": [
        {
          "output_type": "execute_result",
          "data": {
            "text/plain": [
              "6106"
            ]
          },
          "metadata": {},
          "execution_count": 98
        }
      ]
    },
    {
      "cell_type": "code",
      "source": [
        "len(Y)"
      ],
      "metadata": {
        "colab": {
          "base_uri": "https://localhost:8080/"
        },
        "id": "U-dMxI--vk6T",
        "outputId": "6a0fc326-430a-4985-ad5f-21d61ddf39af"
      },
      "execution_count": 99,
      "outputs": [
        {
          "output_type": "execute_result",
          "data": {
            "text/plain": [
              "60000"
            ]
          },
          "metadata": {},
          "execution_count": 99
        }
      ]
    },
    {
      "cell_type": "code",
      "source": [
        "acc = np.sum(y == Y)/len(Y)"
      ],
      "metadata": {
        "id": "dPL4O9yXvor9"
      },
      "execution_count": 100,
      "outputs": []
    },
    {
      "cell_type": "code",
      "source": [
        "acc"
      ],
      "metadata": {
        "colab": {
          "base_uri": "https://localhost:8080/"
        },
        "id": "oGVVaASUvvMK",
        "outputId": "a9906961-e6ca-415a-818c-cb80f63d18d8"
      },
      "execution_count": 101,
      "outputs": [
        {
          "output_type": "execute_result",
          "data": {
            "text/plain": [
              "0.10176666666666667"
            ]
          },
          "metadata": {},
          "execution_count": 101
        }
      ]
    },
    {
      "cell_type": "code",
      "source": [
        "m = np.random.standard_normal((10,784))\n",
        "\n",
        "y = m@X\n",
        "\n",
        "y = np.argmax(y, axis=0)\n",
        "\n",
        "acc = np.sum(y == Y)/len(Y)\n",
        "\n",
        "print(acc)"
      ],
      "metadata": {
        "colab": {
          "base_uri": "https://localhost:8080/"
        },
        "id": "2pcrGVBNt15i",
        "outputId": "ed387a32-4ec1-446f-a34e-b0128a6e172a"
      },
      "execution_count": 102,
      "outputs": [
        {
          "output_type": "stream",
          "name": "stdout",
          "text": [
            "0.08751666666666667\n"
          ]
        }
      ]
    },
    {
      "cell_type": "code",
      "source": [],
      "metadata": {
        "id": "XYkNlQ-Mv0-G"
      },
      "execution_count": 102,
      "outputs": []
    },
    {
      "cell_type": "code",
      "source": [
        "acc_best = 0\n",
        "m_best = 0\n",
        "\n",
        "for i in range(100):\n",
        "\n",
        "    m = np.random.standard_normal((10,784))\n",
        "\n",
        "    y = m@X\n",
        "\n",
        "    y = np.argmax(y, axis=0)\n",
        "\n",
        "    acc = np.sum(y == Y)/len(Y)\n",
        "\n",
        "    if acc > acc_best:\n",
        "        acc_best = acc\n",
        "        m_best = m\n",
        "\n",
        "        print(acc_best)"
      ],
      "metadata": {
        "id": "RZnwvYgUwKOV",
        "outputId": "ff7081bf-e9be-47ce-a6d6-0851ee8dbf6a",
        "colab": {
          "base_uri": "https://localhost:8080/"
        }
      },
      "execution_count": 103,
      "outputs": [
        {
          "metadata": {
            "tags": null
          },
          "name": "stdout",
          "output_type": "stream",
          "text": [
            "0.10723333333333333\n",
            "0.15011666666666668\n",
            "0.1624\n",
            "0.16888333333333333\n"
          ]
        }
      ]
    },
    {
      "cell_type": "code",
      "source": [],
      "metadata": {
        "id": "ggbDiUhQwKQq"
      },
      "execution_count": 103,
      "outputs": []
    },
    {
      "cell_type": "code",
      "source": [
        "acc_best = 0\n",
        "m_best = 0\n",
        "\n",
        "for i in range(10000):\n",
        "\n",
        "    m = m_best + np.random.standard_normal((10,784))\n",
        "\n",
        "    y = m@X\n",
        "\n",
        "    y = np.argmax(y, axis=0)\n",
        "\n",
        "    acc = np.sum(y == Y)/len(Y)\n",
        "\n",
        "    if acc > acc_best:\n",
        "        acc_best = acc\n",
        "        m_best = m\n",
        "\n",
        "        print(acc_best)"
      ],
      "metadata": {
        "colab": {
          "base_uri": "https://localhost:8080/"
        },
        "id": "dVp2Pn8iwKSQ",
        "outputId": "c96d4450-a3ad-43d5-a6df-a4b65dd66edb"
      },
      "execution_count": null,
      "outputs": [
        {
          "output_type": "stream",
          "name": "stdout",
          "text": [
            "0.09681666666666666\n",
            "0.12565\n",
            "0.13168333333333335\n",
            "0.15288333333333334\n",
            "0.15501666666666666\n",
            "0.16583333333333333\n",
            "0.17133333333333334\n",
            "0.18663333333333335\n",
            "0.19963333333333333\n",
            "0.20265\n",
            "0.20845\n",
            "0.2188\n",
            "0.22123333333333334\n",
            "0.23083333333333333\n",
            "0.23293333333333333\n",
            "0.23385\n",
            "0.23818333333333333\n",
            "0.24385\n",
            "0.24635\n",
            "0.25698333333333334\n",
            "0.2574\n",
            "0.26576666666666665\n",
            "0.2687\n",
            "0.26993333333333336\n",
            "0.2758333333333333\n",
            "0.28175\n",
            "0.28253333333333336\n",
            "0.28486666666666666\n",
            "0.2873\n",
            "0.2891166666666667\n",
            "0.29491666666666666\n",
            "0.29845\n",
            "0.3034833333333333\n",
            "0.30355\n",
            "0.30551666666666666\n",
            "0.3126333333333333\n",
            "0.3152333333333333\n",
            "0.31711666666666666\n",
            "0.3195\n",
            "0.32416666666666666\n",
            "0.3290166666666667\n",
            "0.33235\n",
            "0.33455\n",
            "0.3424\n",
            "0.3431666666666667\n",
            "0.3446666666666667\n",
            "0.3459333333333333\n",
            "0.3495666666666667\n",
            "0.36001666666666665\n",
            "0.36318333333333336\n",
            "0.36566666666666664\n",
            "0.3688166666666667\n",
            "0.3703666666666667\n",
            "0.3775833333333333\n",
            "0.37825\n",
            "0.38095\n",
            "0.3843666666666667\n",
            "0.4021166666666667\n",
            "0.40703333333333336\n",
            "0.4083\n",
            "0.4182666666666667\n",
            "0.42745\n",
            "0.4328666666666667\n",
            "0.43323333333333336\n",
            "0.43395\n",
            "0.43748333333333334\n",
            "0.4393\n",
            "0.4436\n",
            "0.44555\n",
            "0.44685\n",
            "0.44858333333333333\n",
            "0.45135\n",
            "0.45156666666666667\n",
            "0.4536\n",
            "0.4589666666666667\n",
            "0.46265\n",
            "0.46758333333333335\n",
            "0.4726\n",
            "0.4783\n",
            "0.47841666666666666\n",
            "0.47895\n",
            "0.47996666666666665\n",
            "0.4801\n",
            "0.48083333333333333\n",
            "0.4836\n",
            "0.48456666666666665\n",
            "0.4857\n",
            "0.4872666666666667\n",
            "0.49046666666666666\n",
            "0.4905\n",
            "0.49461666666666665\n",
            "0.49496666666666667\n",
            "0.4966333333333333\n",
            "0.49698333333333333\n",
            "0.5020333333333333\n",
            "0.5065333333333333\n",
            "0.5079833333333333\n",
            "0.5095666666666666\n",
            "0.51\n",
            "0.5103\n",
            "0.5110166666666667\n",
            "0.5136166666666667\n",
            "0.5151666666666667\n",
            "0.51805\n",
            "0.52175\n",
            "0.5243166666666667\n",
            "0.5266833333333333\n",
            "0.5267\n",
            "0.52955\n",
            "0.5349833333333334\n",
            "0.5351166666666667\n",
            "0.53515\n",
            "0.5369\n",
            "0.5385333333333333\n",
            "0.5395666666666666\n",
            "0.54055\n",
            "0.5418833333333334\n",
            "0.5419\n",
            "0.5424333333333333\n",
            "0.54355\n",
            "0.54605\n",
            "0.5484166666666667\n",
            "0.5488166666666666\n",
            "0.54975\n",
            "0.5507\n",
            "0.5538166666666666\n",
            "0.5559833333333334\n",
            "0.5567\n",
            "0.5577\n",
            "0.5580666666666667\n",
            "0.56035\n",
            "0.5604333333333333\n",
            "0.5627166666666666\n",
            "0.5636\n",
            "0.5640166666666667\n",
            "0.5647\n",
            "0.5682166666666667\n",
            "0.5682333333333334\n",
            "0.5705833333333333\n",
            "0.571\n",
            "0.5739833333333333\n",
            "0.5744833333333333\n",
            "0.5792666666666667\n",
            "0.5813333333333334\n",
            "0.5816166666666667\n",
            "0.5823166666666667\n",
            "0.5826333333333333\n",
            "0.58265\n",
            "0.5833\n",
            "0.5849666666666666\n",
            "0.5858833333333333\n",
            "0.5873\n",
            "0.5875666666666667\n",
            "0.58815\n",
            "0.5888666666666666\n",
            "0.5943833333333334\n",
            "0.5948833333333333\n",
            "0.5958666666666667\n",
            "0.59905\n",
            "0.6006333333333334\n",
            "0.60155\n",
            "0.6022333333333333\n",
            "0.6029\n",
            "0.6037333333333333\n",
            "0.6044333333333334\n",
            "0.6048\n",
            "0.6051166666666666\n",
            "0.6063833333333334\n",
            "0.6067\n",
            "0.60915\n",
            "0.61055\n",
            "0.6106333333333334\n",
            "0.6123333333333333\n",
            "0.6133333333333333\n",
            "0.61395\n",
            "0.6143666666666666\n",
            "0.6144666666666667\n",
            "0.6170333333333333\n",
            "0.6210333333333333\n",
            "0.6218333333333333\n",
            "0.6232666666666666\n",
            "0.6234166666666666\n",
            "0.6236666666666667\n",
            "0.6259333333333333\n",
            "0.6263333333333333\n",
            "0.6283\n",
            "0.6292833333333333\n",
            "0.63025\n",
            "0.6314166666666666\n",
            "0.6319833333333333\n",
            "0.6320666666666667\n",
            "0.63225\n",
            "0.6323833333333333\n",
            "0.6328333333333334\n",
            "0.6349333333333333\n",
            "0.6368833333333334\n",
            "0.6371666666666667\n",
            "0.6371833333333333\n",
            "0.63795\n",
            "0.6389666666666667\n",
            "0.6396166666666666\n",
            "0.6406333333333334\n",
            "0.6411833333333333\n",
            "0.6420833333333333\n",
            "0.6424666666666666\n",
            "0.6425833333333333\n",
            "0.64345\n",
            "0.6451833333333333\n",
            "0.6453833333333333\n",
            "0.64575\n",
            "0.6459166666666667\n",
            "0.6459333333333334\n",
            "0.6473666666666666\n",
            "0.6476166666666666\n",
            "0.6503666666666666\n",
            "0.65055\n",
            "0.6508166666666667\n",
            "0.6509666666666667\n",
            "0.65225\n",
            "0.6525333333333333\n",
            "0.65365\n",
            "0.6551666666666667\n",
            "0.6560333333333334\n",
            "0.6561\n",
            "0.6565666666666666\n",
            "0.6566833333333333\n",
            "0.6591666666666667\n",
            "0.65935\n",
            "0.6593833333333333\n",
            "0.65955\n",
            "0.6607\n",
            "0.6612833333333333\n",
            "0.663\n",
            "0.6631\n",
            "0.66375\n",
            "0.66395\n",
            "0.6641666666666667\n",
            "0.6646333333333333\n",
            "0.6647\n",
            "0.6654666666666667\n",
            "0.6658\n",
            "0.66585\n",
            "0.6662\n",
            "0.6663666666666667\n",
            "0.66695\n",
            "0.6676833333333333\n",
            "0.66775\n",
            "0.6681\n",
            "0.6682666666666667\n",
            "0.6689666666666667\n",
            "0.6703\n",
            "0.6703833333333333\n",
            "0.6724666666666667\n",
            "0.6727333333333333\n",
            "0.6729333333333334\n",
            "0.6731166666666667\n",
            "0.6733\n",
            "0.6736666666666666\n",
            "0.67375\n",
            "0.6742833333333333\n",
            "0.6747833333333333\n",
            "0.67515\n",
            "0.6755333333333333\n",
            "0.6758833333333333\n",
            "0.6764\n",
            "0.6764833333333333\n",
            "0.6768833333333333\n",
            "0.6780333333333334\n",
            "0.6782333333333334\n",
            "0.6788\n",
            "0.6791166666666667\n",
            "0.6792166666666667\n",
            "0.67935\n",
            "0.6795166666666667\n",
            "0.6801333333333334\n",
            "0.6810833333333334\n",
            "0.6811\n",
            "0.6819166666666666\n",
            "0.6820833333333334\n",
            "0.6821666666666667\n",
            "0.6827166666666666\n",
            "0.6829666666666667\n",
            "0.6831333333333334\n",
            "0.6835333333333333\n",
            "0.6840833333333334\n",
            "0.6847666666666666\n",
            "0.6855166666666667\n",
            "0.6863166666666667\n",
            "0.68645\n",
            "0.6868666666666666\n",
            "0.6878333333333333\n",
            "0.6880666666666667\n",
            "0.6880833333333334\n",
            "0.6881166666666667\n",
            "0.6885166666666667\n",
            "0.68885\n",
            "0.68915\n",
            "0.6899166666666666\n",
            "0.6903666666666667\n",
            "0.6905166666666667\n",
            "0.6912666666666667\n",
            "0.6912833333333334\n",
            "0.6918166666666666\n",
            "0.6918333333333333\n",
            "0.6929666666666666\n",
            "0.6938666666666666\n",
            "0.69395\n",
            "0.6943666666666667\n",
            "0.6955666666666667\n",
            "0.69575\n",
            "0.69605\n",
            "0.69615\n",
            "0.6964333333333333\n",
            "0.6965\n",
            "0.69685\n",
            "0.6978333333333333\n",
            "0.69815\n",
            "0.699\n",
            "0.6995833333333333\n",
            "0.7\n",
            "0.7005666666666667\n",
            "0.7012833333333334\n",
            "0.7016\n",
            "0.7022333333333334\n",
            "0.7024666666666667\n",
            "0.7038833333333333\n",
            "0.70425\n",
            "0.70475\n",
            "0.7049666666666666\n",
            "0.70525\n",
            "0.7062833333333334\n",
            "0.7065166666666667\n",
            "0.70665\n",
            "0.70685\n",
            "0.7073333333333334\n",
            "0.7073666666666667\n",
            "0.7094333333333334\n",
            "0.70955\n",
            "0.7104166666666667\n",
            "0.7105166666666667\n",
            "0.7108666666666666\n",
            "0.7114333333333334\n",
            "0.7114666666666667\n",
            "0.7117666666666667\n",
            "0.7118166666666667\n",
            "0.71205\n",
            "0.7134\n",
            "0.7139333333333333\n",
            "0.7144666666666667\n",
            "0.7145\n",
            "0.7146\n",
            "0.7150833333333333\n",
            "0.7171666666666666\n",
            "0.71765\n",
            "0.71815\n",
            "0.71855\n",
            "0.7189833333333333\n",
            "0.7190666666666666\n",
            "0.7196166666666667\n",
            "0.7211666666666666\n",
            "0.7212833333333334\n",
            "0.7226333333333333\n",
            "0.7230333333333333\n",
            "0.72385\n",
            "0.7242666666666666\n",
            "0.7243666666666667\n",
            "0.7248666666666667\n",
            "0.7250166666666666\n",
            "0.72505\n",
            "0.72555\n",
            "0.7262333333333333\n",
            "0.7267\n",
            "0.7273666666666667\n",
            "0.7276166666666667\n",
            "0.7279166666666667\n",
            "0.7283833333333334\n",
            "0.72885\n",
            "0.7294\n",
            "0.7299\n",
            "0.7301666666666666\n",
            "0.73085\n",
            "0.7310666666666666\n",
            "0.7315166666666667\n",
            "0.7315833333333334\n",
            "0.7317666666666667\n",
            "0.7330666666666666\n",
            "0.73395\n",
            "0.7350333333333333\n",
            "0.7354333333333334\n",
            "0.7359166666666667\n",
            "0.7363\n",
            "0.7366\n",
            "0.73735\n",
            "0.73745\n",
            "0.7375333333333334\n",
            "0.7377666666666667\n",
            "0.73785\n",
            "0.7381\n",
            "0.7382166666666666\n",
            "0.7386666666666667\n",
            "0.73875\n",
            "0.7392833333333333\n",
            "0.7398666666666667\n",
            "0.74\n",
            "0.7407\n",
            "0.74075\n",
            "0.7414166666666666\n",
            "0.7416833333333334\n",
            "0.7424833333333334\n",
            "0.74315\n",
            "0.74375\n",
            "0.7448\n",
            "0.7449833333333333\n",
            "0.7452\n",
            "0.7452166666666666\n",
            "0.7461333333333333\n",
            "0.7468\n",
            "0.74685\n",
            "0.7470833333333333\n",
            "0.74715\n",
            "0.7477166666666667\n",
            "0.7481333333333333\n",
            "0.7483\n",
            "0.7491666666666666\n",
            "0.7496166666666667\n",
            "0.75\n",
            "0.7502666666666666\n",
            "0.7503\n",
            "0.7512\n",
            "0.75135\n",
            "0.75165\n",
            "0.7519833333333333\n",
            "0.752\n",
            "0.7523666666666666\n",
            "0.7525333333333334\n",
            "0.7526166666666667\n",
            "0.7527666666666667\n",
            "0.7533166666666666\n",
            "0.7538\n",
            "0.7539166666666667\n",
            "0.7543166666666666\n",
            "0.75435\n",
            "0.7543666666666666\n",
            "0.7545833333333334\n",
            "0.7551\n",
            "0.7557833333333334\n",
            "0.7558333333333334\n",
            "0.7560333333333333\n",
            "0.7563833333333333\n",
            "0.7566\n",
            "0.7572333333333333\n",
            "0.75725\n",
            "0.7574166666666666\n",
            "0.75745\n",
            "0.75765\n",
            "0.7580333333333333\n",
            "0.7585\n",
            "0.7585333333333333\n",
            "0.7587\n",
            "0.7588333333333334\n",
            "0.75895\n",
            "0.7589666666666667\n",
            "0.7593166666666666\n",
            "0.75965\n",
            "0.7602666666666666\n",
            "0.7608\n",
            "0.7608166666666667\n",
            "0.76085\n",
            "0.7608833333333334\n",
            "0.761\n",
            "0.76125\n",
            "0.76135\n",
            "0.76185\n",
            "0.762\n",
            "0.76225\n",
            "0.7624166666666666\n",
            "0.76355\n",
            "0.7636\n",
            "0.76365\n",
            "0.7639833333333333\n",
            "0.76405\n",
            "0.7644833333333333\n",
            "0.7645833333333333\n",
            "0.7647166666666667\n",
            "0.7651666666666667\n",
            "0.7652333333333333\n",
            "0.7654666666666666\n",
            "0.7655166666666666\n",
            "0.7660666666666667\n",
            "0.76645\n",
            "0.7665166666666666\n",
            "0.7668333333333334\n",
            "0.7674333333333333\n",
            "0.7676\n",
            "0.7681\n",
            "0.7686833333333334\n",
            "0.7690333333333333\n",
            "0.76925\n",
            "0.7693833333333333\n",
            "0.7695833333333333\n",
            "0.7696333333333333\n",
            "0.7696666666666667\n",
            "0.7697166666666667\n",
            "0.7698\n",
            "0.7700166666666667\n",
            "0.7702666666666667\n",
            "0.7703333333333333\n",
            "0.77035\n",
            "0.7709833333333334\n",
            "0.77135\n",
            "0.7717333333333334\n",
            "0.77215\n",
            "0.7722333333333333\n",
            "0.7722666666666667\n",
            "0.7725\n",
            "0.7725666666666666\n",
            "0.7728333333333334\n",
            "0.7728666666666667\n",
            "0.7732166666666667\n",
            "0.7733833333333333\n",
            "0.7735333333333333\n",
            "0.7742333333333333\n",
            "0.7744166666666666\n",
            "0.7748\n",
            "0.775\n",
            "0.77545\n",
            "0.7757666666666667\n",
            "0.7758166666666667\n",
            "0.7758833333333334\n",
            "0.7762833333333333\n",
            "0.77635\n",
            "0.7769833333333334\n",
            "0.7771833333333333\n",
            "0.7775\n",
            "0.7777\n",
            "0.7779333333333334\n",
            "0.7782666666666667\n",
            "0.7784333333333333\n",
            "0.7785333333333333\n",
            "0.7787\n",
            "0.7788166666666667\n",
            "0.7789666666666667\n",
            "0.77905\n",
            "0.77945\n",
            "0.7800833333333334\n",
            "0.7801333333333333\n",
            "0.7806833333333333\n"
          ]
        }
      ]
    },
    {
      "cell_type": "code",
      "source": [],
      "metadata": {
        "id": "zktnb-suxqHH"
      },
      "execution_count": null,
      "outputs": []
    }
  ]
}